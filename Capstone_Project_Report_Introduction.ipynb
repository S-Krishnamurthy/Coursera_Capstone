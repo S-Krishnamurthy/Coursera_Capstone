{
 "cells": [
  {
   "cell_type": "markdown",
   "metadata": {},
   "source": [
    "### 1. Introduction "
   ]
  },
  {
   "cell_type": "markdown",
   "metadata": {},
   "source": [
    "**1.1. Background**"
   ]
  },
  {
   "cell_type": "markdown",
   "metadata": {},
   "source": [
    "The socio-economic status of a region, be it a city, country, or anything like it, can be a powerful gauge of the efficiency of governments, business, and economic policy. Researchers have recently begun leveraging the power of machine learning to analyze the effects of economic and financial changes on the well-being of a population, and vice versa. Understanding this multi-faceted relationship is of utmost importance in creating and maintaining a fair social structure, along with a happy citizenry, which will only result in the further growth of the region."
   ]
  },
  {
   "cell_type": "markdown",
   "metadata": {},
   "source": [
    "**1.2. Scope of the project**"
   ]
  },
  {
   "cell_type": "markdown",
   "metadata": {},
   "source": [
    "In this project, the city of Chicago will be studied between 2008-2012, and the effects of various socio-economic factors on the health and so-called “hardship index” of its citizens will be explored. The project aims to predict the hardship index of a neighbourhood based on the interplay of a number of factors, including per capita income, presence of schools and venues for leisure, crime rate, and poverty level."
   ]
  },
  {
   "cell_type": "markdown",
   "metadata": {},
   "source": [
    "**1.3. Scope of impact**"
   ]
  },
  {
   "cell_type": "markdown",
   "metadata": {},
   "source": [
    "An analysis such as this would be of use to a number of groups: governments can use it to guide policy formulation, businesses can use it to enter markets that would benefit from their presence, and the citizens themselves can use it to understand their community better, perhaps forming their own groups to improve their situation, or that of their neighbours."
   ]
  }
 ],
 "metadata": {
  "kernelspec": {
   "display_name": "Python 3",
   "language": "python",
   "name": "python3"
  },
  "language_info": {
   "codemirror_mode": {
    "name": "ipython",
    "version": 3
   },
   "file_extension": ".py",
   "mimetype": "text/x-python",
   "name": "python",
   "nbconvert_exporter": "python",
   "pygments_lexer": "ipython3",
   "version": "3.9.6"
  }
 },
 "nbformat": 4,
 "nbformat_minor": 4
}
